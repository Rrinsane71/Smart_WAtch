{
 "cells": [
  {
   "cell_type": "code",
   "execution_count": 10,
   "metadata": {},
   "outputs": [],
   "source": [
    "import pandas as pd\n",
    "import numpy as np\n",
    "import matplotlib.pyplot as plt\n",
    "import plotly.express as px\n",
    "import plotly.graph_objects as go"
   ]
  },
  {
   "cell_type": "code",
   "execution_count": 11,
   "metadata": {},
   "outputs": [],
   "source": [
    "url = \"https://raw.githubusercontent.com/amankharwal/Website-data/master/dailyActivity_merged.csv\"\n",
    "data = pd.read_csv(url)"
   ]
  },
  {
   "cell_type": "code",
   "execution_count": 12,
   "metadata": {},
   "outputs": [
    {
     "name": "stdout",
     "output_type": "stream",
     "text": [
      "           Id ActivityDate  TotalSteps  TotalDistance  TrackerDistance  \\\n",
      "0  1503960366    4/12/2016       13162           8.50             8.50   \n",
      "1  1503960366    4/13/2016       10735           6.97             6.97   \n",
      "2  1503960366    4/14/2016       10460           6.74             6.74   \n",
      "3  1503960366    4/15/2016        9762           6.28             6.28   \n",
      "4  1503960366    4/16/2016       12669           8.16             8.16   \n",
      "\n",
      "   LoggedActivitiesDistance  VeryActiveDistance  ModeratelyActiveDistance  \\\n",
      "0                       0.0                1.88                      0.55   \n",
      "1                       0.0                1.57                      0.69   \n",
      "2                       0.0                2.44                      0.40   \n",
      "3                       0.0                2.14                      1.26   \n",
      "4                       0.0                2.71                      0.41   \n",
      "\n",
      "   LightActiveDistance  SedentaryActiveDistance  VeryActiveMinutes  \\\n",
      "0                 6.06                      0.0                 25   \n",
      "1                 4.71                      0.0                 21   \n",
      "2                 3.91                      0.0                 30   \n",
      "3                 2.83                      0.0                 29   \n",
      "4                 5.04                      0.0                 36   \n",
      "\n",
      "   FairlyActiveMinutes  LightlyActiveMinutes  SedentaryMinutes  Calories  \n",
      "0                   13                   328               728      1985  \n",
      "1                   19                   217               776      1797  \n",
      "2                   11                   181              1218      1776  \n",
      "3                   34                   209               726      1745  \n",
      "4                   10                   221               773      1863  \n"
     ]
    }
   ],
   "source": [
    "print(data.head())"
   ]
  },
  {
   "cell_type": "code",
   "execution_count": 13,
   "metadata": {},
   "outputs": [
    {
     "name": "stdout",
     "output_type": "stream",
     "text": [
      "Id                          0\n",
      "ActivityDate                0\n",
      "TotalSteps                  0\n",
      "TotalDistance               0\n",
      "TrackerDistance             0\n",
      "LoggedActivitiesDistance    0\n",
      "VeryActiveDistance          0\n",
      "ModeratelyActiveDistance    0\n",
      "LightActiveDistance         0\n",
      "SedentaryActiveDistance     0\n",
      "VeryActiveMinutes           0\n",
      "FairlyActiveMinutes         0\n",
      "LightlyActiveMinutes        0\n",
      "SedentaryMinutes            0\n",
      "Calories                    0\n",
      "dtype: int64\n"
     ]
    }
   ],
   "source": [
    "print(data.isnull().sum())"
   ]
  },
  {
   "cell_type": "code",
   "execution_count": 14,
   "metadata": {},
   "outputs": [
    {
     "name": "stdout",
     "output_type": "stream",
     "text": [
      "<class 'pandas.core.frame.DataFrame'>\n",
      "RangeIndex: 940 entries, 0 to 939\n",
      "Data columns (total 15 columns):\n",
      " #   Column                    Non-Null Count  Dtype  \n",
      "---  ------                    --------------  -----  \n",
      " 0   Id                        940 non-null    int64  \n",
      " 1   ActivityDate              940 non-null    object \n",
      " 2   TotalSteps                940 non-null    int64  \n",
      " 3   TotalDistance             940 non-null    float64\n",
      " 4   TrackerDistance           940 non-null    float64\n",
      " 5   LoggedActivitiesDistance  940 non-null    float64\n",
      " 6   VeryActiveDistance        940 non-null    float64\n",
      " 7   ModeratelyActiveDistance  940 non-null    float64\n",
      " 8   LightActiveDistance       940 non-null    float64\n",
      " 9   SedentaryActiveDistance   940 non-null    float64\n",
      " 10  VeryActiveMinutes         940 non-null    int64  \n",
      " 11  FairlyActiveMinutes       940 non-null    int64  \n",
      " 12  LightlyActiveMinutes      940 non-null    int64  \n",
      " 13  SedentaryMinutes          940 non-null    int64  \n",
      " 14  Calories                  940 non-null    int64  \n",
      "dtypes: float64(7), int64(7), object(1)\n",
      "memory usage: 110.3+ KB\n",
      "None\n"
     ]
    }
   ],
   "source": [
    "print(data.info())"
   ]
  },
  {
   "cell_type": "code",
   "execution_count": 15,
   "metadata": {},
   "outputs": [
    {
     "name": "stdout",
     "output_type": "stream",
     "text": [
      "<class 'pandas.core.frame.DataFrame'>\n",
      "RangeIndex: 940 entries, 0 to 939\n",
      "Data columns (total 15 columns):\n",
      " #   Column                    Non-Null Count  Dtype         \n",
      "---  ------                    --------------  -----         \n",
      " 0   Id                        940 non-null    int64         \n",
      " 1   ActivityDate              940 non-null    datetime64[ns]\n",
      " 2   TotalSteps                940 non-null    int64         \n",
      " 3   TotalDistance             940 non-null    float64       \n",
      " 4   TrackerDistance           940 non-null    float64       \n",
      " 5   LoggedActivitiesDistance  940 non-null    float64       \n",
      " 6   VeryActiveDistance        940 non-null    float64       \n",
      " 7   ModeratelyActiveDistance  940 non-null    float64       \n",
      " 8   LightActiveDistance       940 non-null    float64       \n",
      " 9   SedentaryActiveDistance   940 non-null    float64       \n",
      " 10  VeryActiveMinutes         940 non-null    int64         \n",
      " 11  FairlyActiveMinutes       940 non-null    int64         \n",
      " 12  LightlyActiveMinutes      940 non-null    int64         \n",
      " 13  SedentaryMinutes          940 non-null    int64         \n",
      " 14  Calories                  940 non-null    int64         \n",
      "dtypes: datetime64[ns](1), float64(7), int64(7)\n",
      "memory usage: 110.3 KB\n",
      "None\n"
     ]
    }
   ],
   "source": [
    "data[\"ActivityDate\"] = pd.to_datetime(data[\"ActivityDate\"], \n",
    "                                      format=\"%m/%d/%Y\")\n",
    "print(data.info())"
   ]
  },
  {
   "cell_type": "code",
   "execution_count": 16,
   "metadata": {},
   "outputs": [
    {
     "name": "stdout",
     "output_type": "stream",
     "text": [
      "8      1063\n",
      "167    1440\n",
      "797    1440\n",
      "425    1397\n",
      "249     960\n",
      "Name: TotalMinutes, dtype: int64\n"
     ]
    }
   ],
   "source": [
    "data[\"TotalMinutes\"] = data[\"VeryActiveMinutes\"] + data[\"FairlyActiveMinutes\"] + data[\"LightlyActiveMinutes\"] + data[\"SedentaryMinutes\"]\n",
    "print(data[\"TotalMinutes\"].sample(5))"
   ]
  },
  {
   "cell_type": "code",
   "execution_count": 17,
   "metadata": {},
   "outputs": [
    {
     "name": "stdout",
     "output_type": "stream",
     "text": [
      "                 Id                   ActivityDate    TotalSteps  \\\n",
      "count  9.400000e+02                            940    940.000000   \n",
      "mean   4.855407e+09  2016-04-26 06:53:37.021276672   7637.910638   \n",
      "min    1.503960e+09            2016-04-12 00:00:00      0.000000   \n",
      "25%    2.320127e+09            2016-04-19 00:00:00   3789.750000   \n",
      "50%    4.445115e+09            2016-04-26 00:00:00   7405.500000   \n",
      "75%    6.962181e+09            2016-05-04 00:00:00  10727.000000   \n",
      "max    8.877689e+09            2016-05-12 00:00:00  36019.000000   \n",
      "std    2.424805e+09                            NaN   5087.150742   \n",
      "\n",
      "       TotalDistance  TrackerDistance  LoggedActivitiesDistance  \\\n",
      "count     940.000000       940.000000                940.000000   \n",
      "mean        5.489702         5.475351                  0.108171   \n",
      "min         0.000000         0.000000                  0.000000   \n",
      "25%         2.620000         2.620000                  0.000000   \n",
      "50%         5.245000         5.245000                  0.000000   \n",
      "75%         7.712500         7.710000                  0.000000   \n",
      "max        28.030001        28.030001                  4.942142   \n",
      "std         3.924606         3.907276                  0.619897   \n",
      "\n",
      "       VeryActiveDistance  ModeratelyActiveDistance  LightActiveDistance  \\\n",
      "count          940.000000                940.000000           940.000000   \n",
      "mean             1.502681                  0.567543             3.340819   \n",
      "min              0.000000                  0.000000             0.000000   \n",
      "25%              0.000000                  0.000000             1.945000   \n",
      "50%              0.210000                  0.240000             3.365000   \n",
      "75%              2.052500                  0.800000             4.782500   \n",
      "max             21.920000                  6.480000            10.710000   \n",
      "std              2.658941                  0.883580             2.040655   \n",
      "\n",
      "       SedentaryActiveDistance  VeryActiveMinutes  FairlyActiveMinutes  \\\n",
      "count               940.000000         940.000000           940.000000   \n",
      "mean                  0.001606          21.164894            13.564894   \n",
      "min                   0.000000           0.000000             0.000000   \n",
      "25%                   0.000000           0.000000             0.000000   \n",
      "50%                   0.000000           4.000000             6.000000   \n",
      "75%                   0.000000          32.000000            19.000000   \n",
      "max                   0.110000         210.000000           143.000000   \n",
      "std                   0.007346          32.844803            19.987404   \n",
      "\n",
      "       LightlyActiveMinutes  SedentaryMinutes     Calories  TotalMinutes  \n",
      "count            940.000000        940.000000   940.000000    940.000000  \n",
      "mean             192.812766        991.210638  2303.609574   1218.753191  \n",
      "min                0.000000          0.000000     0.000000      2.000000  \n",
      "25%              127.000000        729.750000  1828.500000    989.750000  \n",
      "50%              199.000000       1057.500000  2134.000000   1440.000000  \n",
      "75%              264.000000       1229.500000  2793.250000   1440.000000  \n",
      "max              518.000000       1440.000000  4900.000000   1440.000000  \n",
      "std              109.174700        301.267437   718.166862    265.931767  \n"
     ]
    }
   ],
   "source": [
    "print(data.describe())"
   ]
  },
  {
   "cell_type": "code",
   "execution_count": 18,
   "metadata": {},
   "outputs": [],
   "source": [
    "import plotly"
   ]
  },
  {
   "cell_type": "code",
   "execution_count": 19,
   "metadata": {},
   "outputs": [],
   "source": [
    "import  plotly.express as px"
   ]
  },
  {
   "cell_type": "code",
   "execution_count": 20,
   "metadata": {},
   "outputs": [],
   "source": [
    "url = \"https://raw.githubusercontent.com/amankharwal/Website-data/master/dailyActivity_merged.csv\"\n",
    "data = pd.read_csv(url)"
   ]
  },
  {
   "cell_type": "code",
   "execution_count": 21,
   "metadata": {},
   "outputs": [
    {
     "data": {
      "application/vnd.plotly.v1+json": {
       "config": {
        "plotlyServerURL": "https://plot.ly"
       },
       "data": [
        {
         "hovertemplate": "Calories=%{x}<br>TotalSteps=%{y}<br>VeryActiveMinutes=%{marker.size}<extra></extra>",
         "legendgroup": "",
         "marker": {
          "color": "#636efa",
          "size": {
           "bdata": "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",
           "dtype": "i2"
          },
          "sizemode": "area",
          "sizeref": 0.525,
          "symbol": "circle"
         },
         "mode": "markers",
         "name": "",
         "orientation": "v",
         "showlegend": false,
         "type": "scatter",
         "x": {
          "bdata": "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",
          "dtype": "i2"
         },
         "xaxis": "x",
         "y": {
          "bdata": "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",
          "dtype": "i4"
         },
         "yaxis": "y"
        },
        {
         "hovertemplate": "<b>OLS trendline</b><br>TotalSteps = 4.19039 * Calories + -2015.1<br>R<sup>2</sup>=0.349953<br><br>Calories=%{x}<br>TotalSteps=%{y} <b>(trend)</b><extra></extra>",
         "legendgroup": "",
         "marker": {
          "color": "#636efa",
          "symbol": "circle"
         },
         "mode": "lines",
         "name": "",
         "showlegend": false,
         "type": "scatter",
         "x": {
          "bdata": "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",
          "dtype": "i2"
         },
         "xaxis": "x",
         "y": {
          "bdata": "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",
          "dtype": "f8"
         },
         "yaxis": "y"
        }
       ],
       "layout": {
        "legend": {
         "itemsizing": "constant",
         "tracegroupgap": 0
        },
        "template": {
         "data": {
          "bar": [
           {
            "error_x": {
             "color": "#2a3f5f"
            },
            "error_y": {
             "color": "#2a3f5f"
            },
            "marker": {
             "line": {
              "color": "#E5ECF6",
              "width": 0.5
             },
             "pattern": {
              "fillmode": "overlay",
              "size": 10,
              "solidity": 0.2
             }
            },
            "type": "bar"
           }
          ],
          "barpolar": [
           {
            "marker": {
             "line": {
              "color": "#E5ECF6",
              "width": 0.5
             },
             "pattern": {
              "fillmode": "overlay",
              "size": 10,
              "solidity": 0.2
             }
            },
            "type": "barpolar"
           }
          ],
          "carpet": [
           {
            "aaxis": {
             "endlinecolor": "#2a3f5f",
             "gridcolor": "white",
             "linecolor": "white",
             "minorgridcolor": "white",
             "startlinecolor": "#2a3f5f"
            },
            "baxis": {
             "endlinecolor": "#2a3f5f",
             "gridcolor": "white",
             "linecolor": "white",
             "minorgridcolor": "white",
             "startlinecolor": "#2a3f5f"
            },
            "type": "carpet"
           }
          ],
          "choropleth": [
           {
            "colorbar": {
             "outlinewidth": 0,
             "ticks": ""
            },
            "type": "choropleth"
           }
          ],
          "contour": [
           {
            "colorbar": {
             "outlinewidth": 0,
             "ticks": ""
            },
            "colorscale": [
             [
              0,
              "#0d0887"
             ],
             [
              0.1111111111111111,
              "#46039f"
             ],
             [
              0.2222222222222222,
              "#7201a8"
             ],
             [
              0.3333333333333333,
              "#9c179e"
             ],
             [
              0.4444444444444444,
              "#bd3786"
             ],
             [
              0.5555555555555556,
              "#d8576b"
             ],
             [
              0.6666666666666666,
              "#ed7953"
             ],
             [
              0.7777777777777778,
              "#fb9f3a"
             ],
             [
              0.8888888888888888,
              "#fdca26"
             ],
             [
              1,
              "#f0f921"
             ]
            ],
            "type": "contour"
           }
          ],
          "contourcarpet": [
           {
            "colorbar": {
             "outlinewidth": 0,
             "ticks": ""
            },
            "type": "contourcarpet"
           }
          ],
          "heatmap": [
           {
            "colorbar": {
             "outlinewidth": 0,
             "ticks": ""
            },
            "colorscale": [
             [
              0,
              "#0d0887"
             ],
             [
              0.1111111111111111,
              "#46039f"
             ],
             [
              0.2222222222222222,
              "#7201a8"
             ],
             [
              0.3333333333333333,
              "#9c179e"
             ],
             [
              0.4444444444444444,
              "#bd3786"
             ],
             [
              0.5555555555555556,
              "#d8576b"
             ],
             [
              0.6666666666666666,
              "#ed7953"
             ],
             [
              0.7777777777777778,
              "#fb9f3a"
             ],
             [
              0.8888888888888888,
              "#fdca26"
             ],
             [
              1,
              "#f0f921"
             ]
            ],
            "type": "heatmap"
           }
          ],
          "histogram": [
           {
            "marker": {
             "pattern": {
              "fillmode": "overlay",
              "size": 10,
              "solidity": 0.2
             }
            },
            "type": "histogram"
           }
          ],
          "histogram2d": [
           {
            "colorbar": {
             "outlinewidth": 0,
             "ticks": ""
            },
            "colorscale": [
             [
              0,
              "#0d0887"
             ],
             [
              0.1111111111111111,
              "#46039f"
             ],
             [
              0.2222222222222222,
              "#7201a8"
             ],
             [
              0.3333333333333333,
              "#9c179e"
             ],
             [
              0.4444444444444444,
              "#bd3786"
             ],
             [
              0.5555555555555556,
              "#d8576b"
             ],
             [
              0.6666666666666666,
              "#ed7953"
             ],
             [
              0.7777777777777778,
              "#fb9f3a"
             ],
             [
              0.8888888888888888,
              "#fdca26"
             ],
             [
              1,
              "#f0f921"
             ]
            ],
            "type": "histogram2d"
           }
          ],
          "histogram2dcontour": [
           {
            "colorbar": {
             "outlinewidth": 0,
             "ticks": ""
            },
            "colorscale": [
             [
              0,
              "#0d0887"
             ],
             [
              0.1111111111111111,
              "#46039f"
             ],
             [
              0.2222222222222222,
              "#7201a8"
             ],
             [
              0.3333333333333333,
              "#9c179e"
             ],
             [
              0.4444444444444444,
              "#bd3786"
             ],
             [
              0.5555555555555556,
              "#d8576b"
             ],
             [
              0.6666666666666666,
              "#ed7953"
             ],
             [
              0.7777777777777778,
              "#fb9f3a"
             ],
             [
              0.8888888888888888,
              "#fdca26"
             ],
             [
              1,
              "#f0f921"
             ]
            ],
            "type": "histogram2dcontour"
           }
          ],
          "mesh3d": [
           {
            "colorbar": {
             "outlinewidth": 0,
             "ticks": ""
            },
            "type": "mesh3d"
           }
          ],
          "parcoords": [
           {
            "line": {
             "colorbar": {
              "outlinewidth": 0,
              "ticks": ""
             }
            },
            "type": "parcoords"
           }
          ],
          "pie": [
           {
            "automargin": true,
            "type": "pie"
           }
          ],
          "scatter": [
           {
            "fillpattern": {
             "fillmode": "overlay",
             "size": 10,
             "solidity": 0.2
            },
            "type": "scatter"
           }
          ],
          "scatter3d": [
           {
            "line": {
             "colorbar": {
              "outlinewidth": 0,
              "ticks": ""
             }
            },
            "marker": {
             "colorbar": {
              "outlinewidth": 0,
              "ticks": ""
             }
            },
            "type": "scatter3d"
           }
          ],
          "scattercarpet": [
           {
            "marker": {
             "colorbar": {
              "outlinewidth": 0,
              "ticks": ""
             }
            },
            "type": "scattercarpet"
           }
          ],
          "scattergeo": [
           {
            "marker": {
             "colorbar": {
              "outlinewidth": 0,
              "ticks": ""
             }
            },
            "type": "scattergeo"
           }
          ],
          "scattergl": [
           {
            "marker": {
             "colorbar": {
              "outlinewidth": 0,
              "ticks": ""
             }
            },
            "type": "scattergl"
           }
          ],
          "scattermap": [
           {
            "marker": {
             "colorbar": {
              "outlinewidth": 0,
              "ticks": ""
             }
            },
            "type": "scattermap"
           }
          ],
          "scattermapbox": [
           {
            "marker": {
             "colorbar": {
              "outlinewidth": 0,
              "ticks": ""
             }
            },
            "type": "scattermapbox"
           }
          ],
          "scatterpolar": [
           {
            "marker": {
             "colorbar": {
              "outlinewidth": 0,
              "ticks": ""
             }
            },
            "type": "scatterpolar"
           }
          ],
          "scatterpolargl": [
           {
            "marker": {
             "colorbar": {
              "outlinewidth": 0,
              "ticks": ""
             }
            },
            "type": "scatterpolargl"
           }
          ],
          "scatterternary": [
           {
            "marker": {
             "colorbar": {
              "outlinewidth": 0,
              "ticks": ""
             }
            },
            "type": "scatterternary"
           }
          ],
          "surface": [
           {
            "colorbar": {
             "outlinewidth": 0,
             "ticks": ""
            },
            "colorscale": [
             [
              0,
              "#0d0887"
             ],
             [
              0.1111111111111111,
              "#46039f"
             ],
             [
              0.2222222222222222,
              "#7201a8"
             ],
             [
              0.3333333333333333,
              "#9c179e"
             ],
             [
              0.4444444444444444,
              "#bd3786"
             ],
             [
              0.5555555555555556,
              "#d8576b"
             ],
             [
              0.6666666666666666,
              "#ed7953"
             ],
             [
              0.7777777777777778,
              "#fb9f3a"
             ],
             [
              0.8888888888888888,
              "#fdca26"
             ],
             [
              1,
              "#f0f921"
             ]
            ],
            "type": "surface"
           }
          ],
          "table": [
           {
            "cells": {
             "fill": {
              "color": "#EBF0F8"
             },
             "line": {
              "color": "white"
             }
            },
            "header": {
             "fill": {
              "color": "#C8D4E3"
             },
             "line": {
              "color": "white"
             }
            },
            "type": "table"
           }
          ]
         },
         "layout": {
          "annotationdefaults": {
           "arrowcolor": "#2a3f5f",
           "arrowhead": 0,
           "arrowwidth": 1
          },
          "autotypenumbers": "strict",
          "coloraxis": {
           "colorbar": {
            "outlinewidth": 0,
            "ticks": ""
           }
          },
          "colorscale": {
           "diverging": [
            [
             0,
             "#8e0152"
            ],
            [
             0.1,
             "#c51b7d"
            ],
            [
             0.2,
             "#de77ae"
            ],
            [
             0.3,
             "#f1b6da"
            ],
            [
             0.4,
             "#fde0ef"
            ],
            [
             0.5,
             "#f7f7f7"
            ],
            [
             0.6,
             "#e6f5d0"
            ],
            [
             0.7,
             "#b8e186"
            ],
            [
             0.8,
             "#7fbc41"
            ],
            [
             0.9,
             "#4d9221"
            ],
            [
             1,
             "#276419"
            ]
           ],
           "sequential": [
            [
             0,
             "#0d0887"
            ],
            [
             0.1111111111111111,
             "#46039f"
            ],
            [
             0.2222222222222222,
             "#7201a8"
            ],
            [
             0.3333333333333333,
             "#9c179e"
            ],
            [
             0.4444444444444444,
             "#bd3786"
            ],
            [
             0.5555555555555556,
             "#d8576b"
            ],
            [
             0.6666666666666666,
             "#ed7953"
            ],
            [
             0.7777777777777778,
             "#fb9f3a"
            ],
            [
             0.8888888888888888,
             "#fdca26"
            ],
            [
             1,
             "#f0f921"
            ]
           ],
           "sequentialminus": [
            [
             0,
             "#0d0887"
            ],
            [
             0.1111111111111111,
             "#46039f"
            ],
            [
             0.2222222222222222,
             "#7201a8"
            ],
            [
             0.3333333333333333,
             "#9c179e"
            ],
            [
             0.4444444444444444,
             "#bd3786"
            ],
            [
             0.5555555555555556,
             "#d8576b"
            ],
            [
             0.6666666666666666,
             "#ed7953"
            ],
            [
             0.7777777777777778,
             "#fb9f3a"
            ],
            [
             0.8888888888888888,
             "#fdca26"
            ],
            [
             1,
             "#f0f921"
            ]
           ]
          },
          "colorway": [
           "#636efa",
           "#EF553B",
           "#00cc96",
           "#ab63fa",
           "#FFA15A",
           "#19d3f3",
           "#FF6692",
           "#B6E880",
           "#FF97FF",
           "#FECB52"
          ],
          "font": {
           "color": "#2a3f5f"
          },
          "geo": {
           "bgcolor": "white",
           "lakecolor": "white",
           "landcolor": "#E5ECF6",
           "showlakes": true,
           "showland": true,
           "subunitcolor": "white"
          },
          "hoverlabel": {
           "align": "left"
          },
          "hovermode": "closest",
          "mapbox": {
           "style": "light"
          },
          "paper_bgcolor": "white",
          "plot_bgcolor": "#E5ECF6",
          "polar": {
           "angularaxis": {
            "gridcolor": "white",
            "linecolor": "white",
            "ticks": ""
           },
           "bgcolor": "#E5ECF6",
           "radialaxis": {
            "gridcolor": "white",
            "linecolor": "white",
            "ticks": ""
           }
          },
          "scene": {
           "xaxis": {
            "backgroundcolor": "#E5ECF6",
            "gridcolor": "white",
            "gridwidth": 2,
            "linecolor": "white",
            "showbackground": true,
            "ticks": "",
            "zerolinecolor": "white"
           },
           "yaxis": {
            "backgroundcolor": "#E5ECF6",
            "gridcolor": "white",
            "gridwidth": 2,
            "linecolor": "white",
            "showbackground": true,
            "ticks": "",
            "zerolinecolor": "white"
           },
           "zaxis": {
            "backgroundcolor": "#E5ECF6",
            "gridcolor": "white",
            "gridwidth": 2,
            "linecolor": "white",
            "showbackground": true,
            "ticks": "",
            "zerolinecolor": "white"
           }
          },
          "shapedefaults": {
           "line": {
            "color": "#2a3f5f"
           }
          },
          "ternary": {
           "aaxis": {
            "gridcolor": "white",
            "linecolor": "white",
            "ticks": ""
           },
           "baxis": {
            "gridcolor": "white",
            "linecolor": "white",
            "ticks": ""
           },
           "bgcolor": "#E5ECF6",
           "caxis": {
            "gridcolor": "white",
            "linecolor": "white",
            "ticks": ""
           }
          },
          "title": {
           "x": 0.05
          },
          "xaxis": {
           "automargin": true,
           "gridcolor": "white",
           "linecolor": "white",
           "ticks": "",
           "title": {
            "standoff": 15
           },
           "zerolinecolor": "white",
           "zerolinewidth": 2
          },
          "yaxis": {
           "automargin": true,
           "gridcolor": "white",
           "linecolor": "white",
           "ticks": "",
           "title": {
            "standoff": 15
           },
           "zerolinecolor": "white",
           "zerolinewidth": 2
          }
         }
        },
        "title": {
         "text": "Relationship between Calories & Total Steps"
        },
        "xaxis": {
         "anchor": "y",
         "domain": [
          0,
          1
         ],
         "title": {
          "text": "Calories"
         }
        },
        "yaxis": {
         "anchor": "x",
         "domain": [
          0,
          1
         ],
         "title": {
          "text": "TotalSteps"
         }
        }
       }
      }
     },
     "metadata": {},
     "output_type": "display_data"
    }
   ],
   "source": [
    "figure = px.scatter(data_frame = data, x=\"Calories\",\n",
    "                    y=\"TotalSteps\", size=\"VeryActiveMinutes\", \n",
    "                    trendline=\"ols\", \n",
    "                    title=\"Relationship between Calories & Total Steps\")\n",
    "figure.show()"
   ]
  },
  {
   "cell_type": "code",
   "execution_count": 22,
   "metadata": {},
   "outputs": [
    {
     "data": {
      "application/vnd.plotly.v1+json": {
       "config": {
        "plotlyServerURL": "https://plot.ly"
       },
       "data": [
        {
         "hoverinfo": "label+percent",
         "labels": [
          "Very Active Minutes",
          "Fairly Active Minutes",
          "Lightly Active Minutes",
          "Inactive Minutes"
         ],
         "marker": {
          "colors": [
           "gold",
           "lightgreen",
           "pink",
           "blue"
          ],
          "line": {
           "color": "black",
           "width": 3
          }
         },
         "textfont": {
          "size": 30
         },
         "textinfo": "value",
         "type": "pie",
         "values": {
          "bdata": "8GzUdzYqNUCspnW8OSErQCjRwC0CGmhALcUhY6/5jkA=",
          "dtype": "f8"
         }
        }
       ],
       "layout": {
        "template": {
         "data": {
          "bar": [
           {
            "error_x": {
             "color": "#2a3f5f"
            },
            "error_y": {
             "color": "#2a3f5f"
            },
            "marker": {
             "line": {
              "color": "#E5ECF6",
              "width": 0.5
             },
             "pattern": {
              "fillmode": "overlay",
              "size": 10,
              "solidity": 0.2
             }
            },
            "type": "bar"
           }
          ],
          "barpolar": [
           {
            "marker": {
             "line": {
              "color": "#E5ECF6",
              "width": 0.5
             },
             "pattern": {
              "fillmode": "overlay",
              "size": 10,
              "solidity": 0.2
             }
            },
            "type": "barpolar"
           }
          ],
          "carpet": [
           {
            "aaxis": {
             "endlinecolor": "#2a3f5f",
             "gridcolor": "white",
             "linecolor": "white",
             "minorgridcolor": "white",
             "startlinecolor": "#2a3f5f"
            },
            "baxis": {
             "endlinecolor": "#2a3f5f",
             "gridcolor": "white",
             "linecolor": "white",
             "minorgridcolor": "white",
             "startlinecolor": "#2a3f5f"
            },
            "type": "carpet"
           }
          ],
          "choropleth": [
           {
            "colorbar": {
             "outlinewidth": 0,
             "ticks": ""
            },
            "type": "choropleth"
           }
          ],
          "contour": [
           {
            "colorbar": {
             "outlinewidth": 0,
             "ticks": ""
            },
            "colorscale": [
             [
              0,
              "#0d0887"
             ],
             [
              0.1111111111111111,
              "#46039f"
             ],
             [
              0.2222222222222222,
              "#7201a8"
             ],
             [
              0.3333333333333333,
              "#9c179e"
             ],
             [
              0.4444444444444444,
              "#bd3786"
             ],
             [
              0.5555555555555556,
              "#d8576b"
             ],
             [
              0.6666666666666666,
              "#ed7953"
             ],
             [
              0.7777777777777778,
              "#fb9f3a"
             ],
             [
              0.8888888888888888,
              "#fdca26"
             ],
             [
              1,
              "#f0f921"
             ]
            ],
            "type": "contour"
           }
          ],
          "contourcarpet": [
           {
            "colorbar": {
             "outlinewidth": 0,
             "ticks": ""
            },
            "type": "contourcarpet"
           }
          ],
          "heatmap": [
           {
            "colorbar": {
             "outlinewidth": 0,
             "ticks": ""
            },
            "colorscale": [
             [
              0,
              "#0d0887"
             ],
             [
              0.1111111111111111,
              "#46039f"
             ],
             [
              0.2222222222222222,
              "#7201a8"
             ],
             [
              0.3333333333333333,
              "#9c179e"
             ],
             [
              0.4444444444444444,
              "#bd3786"
             ],
             [
              0.5555555555555556,
              "#d8576b"
             ],
             [
              0.6666666666666666,
              "#ed7953"
             ],
             [
              0.7777777777777778,
              "#fb9f3a"
             ],
             [
              0.8888888888888888,
              "#fdca26"
             ],
             [
              1,
              "#f0f921"
             ]
            ],
            "type": "heatmap"
           }
          ],
          "histogram": [
           {
            "marker": {
             "pattern": {
              "fillmode": "overlay",
              "size": 10,
              "solidity": 0.2
             }
            },
            "type": "histogram"
           }
          ],
          "histogram2d": [
           {
            "colorbar": {
             "outlinewidth": 0,
             "ticks": ""
            },
            "colorscale": [
             [
              0,
              "#0d0887"
             ],
             [
              0.1111111111111111,
              "#46039f"
             ],
             [
              0.2222222222222222,
              "#7201a8"
             ],
             [
              0.3333333333333333,
              "#9c179e"
             ],
             [
              0.4444444444444444,
              "#bd3786"
             ],
             [
              0.5555555555555556,
              "#d8576b"
             ],
             [
              0.6666666666666666,
              "#ed7953"
             ],
             [
              0.7777777777777778,
              "#fb9f3a"
             ],
             [
              0.8888888888888888,
              "#fdca26"
             ],
             [
              1,
              "#f0f921"
             ]
            ],
            "type": "histogram2d"
           }
          ],
          "histogram2dcontour": [
           {
            "colorbar": {
             "outlinewidth": 0,
             "ticks": ""
            },
            "colorscale": [
             [
              0,
              "#0d0887"
             ],
             [
              0.1111111111111111,
              "#46039f"
             ],
             [
              0.2222222222222222,
              "#7201a8"
             ],
             [
              0.3333333333333333,
              "#9c179e"
             ],
             [
              0.4444444444444444,
              "#bd3786"
             ],
             [
              0.5555555555555556,
              "#d8576b"
             ],
             [
              0.6666666666666666,
              "#ed7953"
             ],
             [
              0.7777777777777778,
              "#fb9f3a"
             ],
             [
              0.8888888888888888,
              "#fdca26"
             ],
             [
              1,
              "#f0f921"
             ]
            ],
            "type": "histogram2dcontour"
           }
          ],
          "mesh3d": [
           {
            "colorbar": {
             "outlinewidth": 0,
             "ticks": ""
            },
            "type": "mesh3d"
           }
          ],
          "parcoords": [
           {
            "line": {
             "colorbar": {
              "outlinewidth": 0,
              "ticks": ""
             }
            },
            "type": "parcoords"
           }
          ],
          "pie": [
           {
            "automargin": true,
            "type": "pie"
           }
          ],
          "scatter": [
           {
            "fillpattern": {
             "fillmode": "overlay",
             "size": 10,
             "solidity": 0.2
            },
            "type": "scatter"
           }
          ],
          "scatter3d": [
           {
            "line": {
             "colorbar": {
              "outlinewidth": 0,
              "ticks": ""
             }
            },
            "marker": {
             "colorbar": {
              "outlinewidth": 0,
              "ticks": ""
             }
            },
            "type": "scatter3d"
           }
          ],
          "scattercarpet": [
           {
            "marker": {
             "colorbar": {
              "outlinewidth": 0,
              "ticks": ""
             }
            },
            "type": "scattercarpet"
           }
          ],
          "scattergeo": [
           {
            "marker": {
             "colorbar": {
              "outlinewidth": 0,
              "ticks": ""
             }
            },
            "type": "scattergeo"
           }
          ],
          "scattergl": [
           {
            "marker": {
             "colorbar": {
              "outlinewidth": 0,
              "ticks": ""
             }
            },
            "type": "scattergl"
           }
          ],
          "scattermap": [
           {
            "marker": {
             "colorbar": {
              "outlinewidth": 0,
              "ticks": ""
             }
            },
            "type": "scattermap"
           }
          ],
          "scattermapbox": [
           {
            "marker": {
             "colorbar": {
              "outlinewidth": 0,
              "ticks": ""
             }
            },
            "type": "scattermapbox"
           }
          ],
          "scatterpolar": [
           {
            "marker": {
             "colorbar": {
              "outlinewidth": 0,
              "ticks": ""
             }
            },
            "type": "scatterpolar"
           }
          ],
          "scatterpolargl": [
           {
            "marker": {
             "colorbar": {
              "outlinewidth": 0,
              "ticks": ""
             }
            },
            "type": "scatterpolargl"
           }
          ],
          "scatterternary": [
           {
            "marker": {
             "colorbar": {
              "outlinewidth": 0,
              "ticks": ""
             }
            },
            "type": "scatterternary"
           }
          ],
          "surface": [
           {
            "colorbar": {
             "outlinewidth": 0,
             "ticks": ""
            },
            "colorscale": [
             [
              0,
              "#0d0887"
             ],
             [
              0.1111111111111111,
              "#46039f"
             ],
             [
              0.2222222222222222,
              "#7201a8"
             ],
             [
              0.3333333333333333,
              "#9c179e"
             ],
             [
              0.4444444444444444,
              "#bd3786"
             ],
             [
              0.5555555555555556,
              "#d8576b"
             ],
             [
              0.6666666666666666,
              "#ed7953"
             ],
             [
              0.7777777777777778,
              "#fb9f3a"
             ],
             [
              0.8888888888888888,
              "#fdca26"
             ],
             [
              1,
              "#f0f921"
             ]
            ],
            "type": "surface"
           }
          ],
          "table": [
           {
            "cells": {
             "fill": {
              "color": "#EBF0F8"
             },
             "line": {
              "color": "white"
             }
            },
            "header": {
             "fill": {
              "color": "#C8D4E3"
             },
             "line": {
              "color": "white"
             }
            },
            "type": "table"
           }
          ]
         },
         "layout": {
          "annotationdefaults": {
           "arrowcolor": "#2a3f5f",
           "arrowhead": 0,
           "arrowwidth": 1
          },
          "autotypenumbers": "strict",
          "coloraxis": {
           "colorbar": {
            "outlinewidth": 0,
            "ticks": ""
           }
          },
          "colorscale": {
           "diverging": [
            [
             0,
             "#8e0152"
            ],
            [
             0.1,
             "#c51b7d"
            ],
            [
             0.2,
             "#de77ae"
            ],
            [
             0.3,
             "#f1b6da"
            ],
            [
             0.4,
             "#fde0ef"
            ],
            [
             0.5,
             "#f7f7f7"
            ],
            [
             0.6,
             "#e6f5d0"
            ],
            [
             0.7,
             "#b8e186"
            ],
            [
             0.8,
             "#7fbc41"
            ],
            [
             0.9,
             "#4d9221"
            ],
            [
             1,
             "#276419"
            ]
           ],
           "sequential": [
            [
             0,
             "#0d0887"
            ],
            [
             0.1111111111111111,
             "#46039f"
            ],
            [
             0.2222222222222222,
             "#7201a8"
            ],
            [
             0.3333333333333333,
             "#9c179e"
            ],
            [
             0.4444444444444444,
             "#bd3786"
            ],
            [
             0.5555555555555556,
             "#d8576b"
            ],
            [
             0.6666666666666666,
             "#ed7953"
            ],
            [
             0.7777777777777778,
             "#fb9f3a"
            ],
            [
             0.8888888888888888,
             "#fdca26"
            ],
            [
             1,
             "#f0f921"
            ]
           ],
           "sequentialminus": [
            [
             0,
             "#0d0887"
            ],
            [
             0.1111111111111111,
             "#46039f"
            ],
            [
             0.2222222222222222,
             "#7201a8"
            ],
            [
             0.3333333333333333,
             "#9c179e"
            ],
            [
             0.4444444444444444,
             "#bd3786"
            ],
            [
             0.5555555555555556,
             "#d8576b"
            ],
            [
             0.6666666666666666,
             "#ed7953"
            ],
            [
             0.7777777777777778,
             "#fb9f3a"
            ],
            [
             0.8888888888888888,
             "#fdca26"
            ],
            [
             1,
             "#f0f921"
            ]
           ]
          },
          "colorway": [
           "#636efa",
           "#EF553B",
           "#00cc96",
           "#ab63fa",
           "#FFA15A",
           "#19d3f3",
           "#FF6692",
           "#B6E880",
           "#FF97FF",
           "#FECB52"
          ],
          "font": {
           "color": "#2a3f5f"
          },
          "geo": {
           "bgcolor": "white",
           "lakecolor": "white",
           "landcolor": "#E5ECF6",
           "showlakes": true,
           "showland": true,
           "subunitcolor": "white"
          },
          "hoverlabel": {
           "align": "left"
          },
          "hovermode": "closest",
          "mapbox": {
           "style": "light"
          },
          "paper_bgcolor": "white",
          "plot_bgcolor": "#E5ECF6",
          "polar": {
           "angularaxis": {
            "gridcolor": "white",
            "linecolor": "white",
            "ticks": ""
           },
           "bgcolor": "#E5ECF6",
           "radialaxis": {
            "gridcolor": "white",
            "linecolor": "white",
            "ticks": ""
           }
          },
          "scene": {
           "xaxis": {
            "backgroundcolor": "#E5ECF6",
            "gridcolor": "white",
            "gridwidth": 2,
            "linecolor": "white",
            "showbackground": true,
            "ticks": "",
            "zerolinecolor": "white"
           },
           "yaxis": {
            "backgroundcolor": "#E5ECF6",
            "gridcolor": "white",
            "gridwidth": 2,
            "linecolor": "white",
            "showbackground": true,
            "ticks": "",
            "zerolinecolor": "white"
           },
           "zaxis": {
            "backgroundcolor": "#E5ECF6",
            "gridcolor": "white",
            "gridwidth": 2,
            "linecolor": "white",
            "showbackground": true,
            "ticks": "",
            "zerolinecolor": "white"
           }
          },
          "shapedefaults": {
           "line": {
            "color": "#2a3f5f"
           }
          },
          "ternary": {
           "aaxis": {
            "gridcolor": "white",
            "linecolor": "white",
            "ticks": ""
           },
           "baxis": {
            "gridcolor": "white",
            "linecolor": "white",
            "ticks": ""
           },
           "bgcolor": "#E5ECF6",
           "caxis": {
            "gridcolor": "white",
            "linecolor": "white",
            "ticks": ""
           }
          },
          "title": {
           "x": 0.05
          },
          "xaxis": {
           "automargin": true,
           "gridcolor": "white",
           "linecolor": "white",
           "ticks": "",
           "title": {
            "standoff": 15
           },
           "zerolinecolor": "white",
           "zerolinewidth": 2
          },
          "yaxis": {
           "automargin": true,
           "gridcolor": "white",
           "linecolor": "white",
           "ticks": "",
           "title": {
            "standoff": 15
           },
           "zerolinecolor": "white",
           "zerolinewidth": 2
          }
         }
        },
        "title": {
         "text": "Total Active Minutes"
        }
       }
      }
     },
     "metadata": {},
     "output_type": "display_data"
    }
   ],
   "source": [
    "label = [\"Very Active Minutes\", \"Fairly Active Minutes\", \n",
    "         \"Lightly Active Minutes\", \"Inactive Minutes\"]\n",
    "counts = data[[\"VeryActiveMinutes\", \"FairlyActiveMinutes\", \n",
    "               \"LightlyActiveMinutes\", \"SedentaryMinutes\"]].mean()\n",
    "colors = ['gold','lightgreen', \"pink\", \"blue\"]\n",
    "\n",
    "fig = go.Figure(data=[go.Pie(labels=label, values=counts)])\n",
    "fig.update_layout(title_text='Total Active Minutes')\n",
    "fig.update_traces(hoverinfo='label+percent', textinfo='value', textfont_size=30,\n",
    "                  marker=dict(colors=colors, line=dict(color='black', width=3)))\n",
    "fig.show()"
   ]
  }
 ],
 "metadata": {
  "kernelspec": {
   "display_name": "Python 3",
   "language": "python",
   "name": "python3"
  },
  "language_info": {
   "codemirror_mode": {
    "name": "ipython",
    "version": 3
   },
   "file_extension": ".py",
   "mimetype": "text/x-python",
   "name": "python",
   "nbconvert_exporter": "python",
   "pygments_lexer": "ipython3",
   "version": "3.12.5"
  }
 },
 "nbformat": 4,
 "nbformat_minor": 2
}
